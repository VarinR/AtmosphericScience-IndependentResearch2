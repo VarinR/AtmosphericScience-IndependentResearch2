{
 "cells": [
  {
   "cell_type": "code",
   "execution_count": null,
   "metadata": {},
   "outputs": [],
   "source": [
    "import xarray as xr\n",
    "import matplotlib.pyplot as plt\n",
    "from matplotlib.offsetbox import OffsetImage, AnnotationBbox\n",
    "import numpy as np\n",
    "import pandas as pd\n",
    "import scipy as scp\n",
    "import netCDF4\n",
    "import cartopy.crs as ccrs\n",
    "import cartopy.feature as cfeature\n",
    "import os\n",
    "import pickle\n",
    "import matplotlib.gridspec as gridspec\n"
   ]
  },
  {
   "cell_type": "code",
   "execution_count": null,
   "metadata": {},
   "outputs": [],
   "source": [
    "file_path1 = 'SSTs.nc'\n",
    "file_path2 = 'TCs.nc'\n",
    "  \n",
    "#Opening dataset for tropics                                   \n",
    "ds1 = xr.open_dataset(file_path1)\n",
    "ds2 = xr.open_dataset(file_path2)"
   ]
  },
  {
   "cell_type": "code",
   "execution_count": null,
   "metadata": {},
   "outputs": [],
   "source": [
    "ds2"
   ]
  },
  {
   "cell_type": "code",
   "execution_count": null,
   "metadata": {},
   "outputs": [],
   "source": [
    "ds_grouped = ds1.groupby('time.year').mean(dim='time')                                   #Obtained Yearly Meaned Data\n",
    "tropical_data = ds_grouped.sel(latitude=slice(23.5, -23.5), longitude=slice(0, 360))    #Extracted Data For the Tropics"
   ]
  },
  {
   "cell_type": "code",
   "execution_count": null,
   "metadata": {},
   "outputs": [],
   "source": [
    "\n",
    "SSTs = {}\n",
    "\n",
    "# Iterate over each year in the tropical_data\n",
    "for year, data in tropical_data.groupby('year'):\n",
    "    # Get the SST data for the current year\n",
    "    sst_data = data['sst']\n",
    "    \n",
    "    # Calculate the tropical mean SST for the year\n",
    "    tropical_mean_sst = sst_data.mean(dim=['latitude', 'longitude'], skipna=True)\n",
    "    \n",
    "    # Create a mask where SST exceeds the tropical mean SST for the current year\n",
    "    up = sst_data > tropical_mean_sst\n",
    "    \n",
    "    # Select the SST data where the mask is True\n",
    "    masked_sst = sst_data.where(up)\n",
    "\n",
    "    # Store the masked SST data for the current year\n",
    "    SSTs[int(year)] = masked_sst\n",
    "\n",
    "\n"
   ]
  },
  {
   "cell_type": "code",
   "execution_count": null,
   "metadata": {},
   "outputs": [],
   "source": [
    "with open(\"storms_by_year.pk\", \"rb\") as fin:  \n",
    " storms = pickle.load(fin)"
   ]
  },
  {
   "cell_type": "code",
   "execution_count": null,
   "metadata": {},
   "outputs": [],
   "source": [
    "# Initialize a dictionary to store storm information with latitudes and longitudes\n",
    "storm_info = {}\n",
    "\n",
    "# Iterate over the years in the storms dictionary\n",
    "for year, storm_ids_year in storms.items():\n",
    "    # Initialize a dictionary to store storm information for the current year\n",
    "    storm_info_year = {}\n",
    "    # Iterate over the storm IDs for the current year\n",
    "    for storm_id in storm_ids_year:\n",
    "        # Find the storm data for the current storm ID\n",
    "        storm_data = ds2.sel(storm=storm_id)\n",
    "        # Extract latitude and longitude values\n",
    "        latitudes = storm_data['lat'].values\n",
    "        longitudes = storm_data['lon'].values\n",
    "        # Store latitude and longitude values in the storm_info_year dictionary\n",
    "        storm_info_year[storm_id] = {'lat': latitudes, 'lon': longitudes}\n",
    "    # Store storm information for the current year in the storm_info dictionary\n",
    "    storm_info[year] = storm_info_year\n"
   ]
  },
  {
   "cell_type": "code",
   "execution_count": null,
   "metadata": {},
   "outputs": [],
   "source": [
    "\n",
    "# Create a figure with subplots for each year (up to 50 years)\n",
    "fig, axs = plt.subplots(50, 1, figsize=(300, 600), subplot_kw={'projection': ccrs.PlateCarree()}, \n",
    "                        gridspec_kw={'width_ratios': [1], 'height_ratios': [1]*50})\n",
    "\n",
    "# Adjust spacing between subplots\n",
    "plt.subplots_adjust(wspace=0.1, hspace=0.1)\n",
    "\n",
    "# Flatten the axs array to iterate over all subplots\n",
    "axs = axs.flatten()\n",
    "\n",
    "# Iterate over each year from 1971 to 2021 or until the 50th subplot\n",
    "for i, year in enumerate(range(1971, 2022)):\n",
    "    if i >= 50:\n",
    "        break\n",
    "    \n",
    "    # Extract storm latitude and longitude data for the current year\n",
    "    year_storms = storm_info.get(year, {})\n",
    "    \n",
    "    # Get the corresponding axis for the current subplot\n",
    "    ax = axs[i]\n",
    "    \n",
    "    # Plot storm locations on the map for the current year\n",
    "    for storm_id, data in year_storms.items():\n",
    "        latitudes = data['lat']\n",
    "        longitudes = data['lon']\n",
    "        ax.plot(longitudes, latitudes, linestyle='-', label=f'Storm {storm_id}', linewidth=2.5)\n",
    "    \n",
    "    # Get the SST data for the current year\n",
    "    sst_data = SSTs.get(year, None)\n",
    "    \n",
    "    # Add SST data if available for the current year\n",
    "    if sst_data is not None:\n",
    "        pcm = ax.pcolormesh(sst_data['longitude'], sst_data['latitude'], sst_data-273.15, cmap='coolwarm', alpha=0.5)\n",
    "        \n",
    "        # Add color bar\n",
    "        cbar = fig.colorbar(pcm, ax=ax, orientation='vertical', pad=0.01)\n",
    "        cbar.set_label('Sea Surface Temperature (°C)', fontsize=20)\n",
    "        cbar.ax.tick_params(labelsize=15)\n",
    "    \n",
    "    # Add map features\n",
    "    ax.coastlines()\n",
    "    ax.gridlines()\n",
    "    ax.set_title(f'Year {year}', fontsize=25)\n",
    "\n",
    "# Show the plot\n",
    "plt.show()\n",
    "\n"
   ]
  }
 ],
 "metadata": {
  "kernelspec": {
   "display_name": "base",
   "language": "python",
   "name": "python3"
  },
  "language_info": {
   "codemirror_mode": {
    "name": "ipython",
    "version": 3
   },
   "file_extension": ".py",
   "mimetype": "text/x-python",
   "name": "python",
   "nbconvert_exporter": "python",
   "pygments_lexer": "ipython3",
   "version": "3.11.4"
  }
 },
 "nbformat": 4,
 "nbformat_minor": 2
}
